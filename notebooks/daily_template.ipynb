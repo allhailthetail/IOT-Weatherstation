{
 "cells": [
  {
   "cell_type": "code",
   "execution_count": null,
   "id": "7ca8a2c1-6b2a-4fc6-b005-31a2a29c8f54",
   "metadata": {
    "editable": true,
    "jupyter": {
     "source_hidden": true
    },
    "slideshow": {
     "slide_type": ""
    },
    "tags": []
   },
   "outputs": [],
   "source": [
    "# Import required modules:\n",
    "import os\n",
    "import sys\n",
    "sys.path.append(\"..\")\n",
    "import pandas as pd\n",
    "import plotly.express as px\n",
    "\n",
    "from weather import forecast"
   ]
  },
  {
   "cell_type": "code",
   "execution_count": null,
   "id": "9cef4de2-998b-4fe6-a9c7-fc50428fe33d",
   "metadata": {
    "editable": true,
    "jupyter": {
     "source_hidden": true
    },
    "slideshow": {
     "slide_type": ""
    },
    "tags": [
     "parameters"
    ]
   },
   "outputs": [],
   "source": [
    "# Special Field tagged 'parameters' - for use by Papermill module:\n",
    "# These values are defaults and should be overridden by the call within app.py\n",
    "latitude = 34.7490\n",
    "longitude = -92.2824"
   ]
  },
  {
   "cell_type": "code",
   "execution_count": null,
   "id": "3791aa77-3505-4529-bbd7-2445f2b2049a",
   "metadata": {
    "jupyter": {
     "source_hidden": true
    }
   },
   "outputs": [],
   "source": [
    "# Initialize a new forecast:\n",
    "fcast = forecast.Forecast(latitude, longitude)\n",
    "\n",
    "# Fetch weekly forecast:\n",
    "fcast._get_weekly()"
   ]
  },
  {
   "cell_type": "markdown",
   "id": "af91d41a-9a3c-4649-8472-9538c5881e79",
   "metadata": {},
   "source": [
    "# Daily Graphical Weather Report:"
   ]
  },
  {
   "cell_type": "code",
   "execution_count": null,
   "id": "55094775-17f7-4255-bdbd-0da0edad447a",
   "metadata": {
    "jupyter": {
     "source_hidden": true
    }
   },
   "outputs": [],
   "source": [
    "# Print GPS data for reference:\n",
    "print('Showing data for GPS Coordinates: ({}, {})'.format(latitude,longitude))"
   ]
  },
  {
   "cell_type": "code",
   "execution_count": null,
   "id": "cc2074ef-3025-41e1-bc46-5bd64601e64b",
   "metadata": {
    "jupyter": {
     "source_hidden": true
    }
   },
   "outputs": [],
   "source": [
    "weekly_forecast = fcast.weekly_forecast"
   ]
  },
  {
   "cell_type": "code",
   "execution_count": null,
   "id": "be8115c3-a5df-4bf2-925d-72437307268d",
   "metadata": {
    "jupyter": {
     "source_hidden": true
    }
   },
   "outputs": [],
   "source": [
    "# Display only one day (for pruning what you'd like to use in your report):\n",
    "#weekly_forecast[0]"
   ]
  },
  {
   "cell_type": "code",
   "execution_count": null,
   "id": "5591ac41-26a1-464e-b71d-5e167e6397c6",
   "metadata": {
    "jupyter": {
     "source_hidden": true
    }
   },
   "outputs": [],
   "source": [
    "# Grab info that's pertinent for your forecast:\n",
    "userdef_weekly_forecast = []\n",
    "\n",
    "for entry in weekly_forecast:\n",
    "    data = {\n",
    "        'Name': entry['name'],\n",
    "        'icon': entry['icon'],\n",
    "        'Temperature': float(entry['temperature']),\n",
    "        'Wind': float(entry['windSpeed'].split()[0]),\n",
    "        'WindDirection': entry['windDirection']\n",
    "    }\n",
    "    userdef_weekly_forecast.append(data)\n",
    "\n",
    "df = pd.DataFrame(userdef_weekly_forecast) "
   ]
  },
  {
   "cell_type": "markdown",
   "id": "54828ca0-c5f0-48e2-a7be-7583b3e43f74",
   "metadata": {},
   "source": [
    "## Tabular Overview:"
   ]
  },
  {
   "cell_type": "code",
   "execution_count": null,
   "id": "1f7b8534-28ce-411a-b153-0a35c745ec24",
   "metadata": {
    "jupyter": {
     "source_hidden": true
    }
   },
   "outputs": [],
   "source": [
    "df[['Name','Temperature','Wind','WindDirection']]"
   ]
  },
  {
   "cell_type": "markdown",
   "id": "7c86d876-b4cf-4857-8282-7130454ed871",
   "metadata": {},
   "source": [
    "> Source: <a href='https://weather.gov'>weather.gov</a>"
   ]
  },
  {
   "cell_type": "markdown",
   "id": "94bf5c8f-d224-41a4-8b60-1b0e5582a7a3",
   "metadata": {},
   "source": [
    "## Temperatures:"
   ]
  },
  {
   "cell_type": "code",
   "execution_count": null,
   "id": "154733b3-c4e0-4a61-aa58-ca3ba789fa27",
   "metadata": {
    "jupyter": {
     "source_hidden": true
    }
   },
   "outputs": [],
   "source": [
    "fig = px.bar(x=df.Name, y=df.Temperature,labels=['day of Week','temp'])\n",
    "fig.update_xaxes(type='category')\n",
    "fig.update_layout(\n",
    "    xaxis_title=\"Day of the Week\",\n",
    "    yaxis_title=\"deg F\"\n",
    ")\n",
    "fig.show()"
   ]
  },
  {
   "cell_type": "markdown",
   "id": "aba234c0-795f-4cb4-b9b4-93f97dc0687e",
   "metadata": {},
   "source": [
    "## Wind Data:"
   ]
  },
  {
   "cell_type": "code",
   "execution_count": null,
   "id": "6ccde3f8-2591-41fb-952a-10a4e984c8cf",
   "metadata": {
    "jupyter": {
     "source_hidden": true
    }
   },
   "outputs": [],
   "source": [
    "fig = px.bar(x=df.Name, y=df.Wind)\n",
    "fig.update_xaxes(type='category')\n",
    "fig.update_layout(\n",
    "    xaxis_title=\"Day of the Week\",\n",
    "    yaxis_title=\"windspeed MPH\"\n",
    ")\n",
    "fig.show()"
   ]
  },
  {
   "cell_type": "code",
   "execution_count": null,
   "id": "cce5299d-364a-4f6a-8e27-1000ecd4e254",
   "metadata": {
    "jupyter": {
     "source_hidden": true
    }
   },
   "outputs": [],
   "source": []
  }
 ],
 "metadata": {
  "kernelspec": {
   "display_name": "Python 3 (ipykernel)",
   "language": "python",
   "name": "python3"
  },
  "language_info": {
   "codemirror_mode": {
    "name": "ipython",
    "version": 3
   },
   "file_extension": ".py",
   "mimetype": "text/x-python",
   "name": "python",
   "nbconvert_exporter": "python",
   "pygments_lexer": "ipython3",
   "version": "3.13.0"
  }
 },
 "nbformat": 4,
 "nbformat_minor": 5
}
