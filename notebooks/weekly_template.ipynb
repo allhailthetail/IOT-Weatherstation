{
 "cells": [
  {
   "cell_type": "code",
   "execution_count": null,
   "id": "7ca8a2c1-6b2a-4fc6-b005-31a2a29c8f54",
   "metadata": {
    "editable": true,
    "slideshow": {
     "slide_type": ""
    },
    "tags": []
   },
   "outputs": [],
   "source": [
    "# Import required modules:\n",
    "import os\n",
    "import sys\n",
    "sys.path.append(\"..\")\n",
    "import json\n",
    "from weather import forecast"
   ]
  },
  {
   "cell_type": "code",
   "execution_count": null,
   "id": "9cef4de2-998b-4fe6-a9c7-fc50428fe33d",
   "metadata": {
    "editable": true,
    "slideshow": {
     "slide_type": ""
    },
    "tags": [
     "parameters"
    ]
   },
   "outputs": [],
   "source": [
    "# Special Field tagged 'parameters' - for use by Papermill module:\n",
    "# These values are defaults and should be overridden by the call within app.py\n",
    "latitude = 34.7490\n",
    "longitude = -92.2824"
   ]
  },
  {
   "cell_type": "code",
   "execution_count": null,
   "id": "3791aa77-3505-4529-bbd7-2445f2b2049a",
   "metadata": {},
   "outputs": [],
   "source": [
    "# Initialize a new forecast:\n",
    "fcast = forecast.Forecast(latitude, longitude)\n",
    "\n",
    "# Fetch weekly forecast:\n",
    "fcast._get_weekly()"
   ]
  },
  {
   "cell_type": "code",
   "execution_count": null,
   "id": "cc2074ef-3025-41e1-bc46-5bd64601e64b",
   "metadata": {},
   "outputs": [],
   "source": [
    "fcast.weekly_forecast"
   ]
  }
 ],
 "metadata": {
  "kernelspec": {
   "display_name": "Python 3 (ipykernel)",
   "language": "python",
   "name": "python3"
  },
  "language_info": {
   "codemirror_mode": {
    "name": "ipython",
    "version": 3
   },
   "file_extension": ".py",
   "mimetype": "text/x-python",
   "name": "python",
   "nbconvert_exporter": "python",
   "pygments_lexer": "ipython3",
   "version": "3.13.0"
  }
 },
 "nbformat": 4,
 "nbformat_minor": 5
}
